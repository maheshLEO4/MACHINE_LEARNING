{
  "cells": [
    {
      "cell_type": "markdown",
      "metadata": {
        "id": "i4qTjqNf0s3z"
      },
      "source": [
        "# Import libraries"
      ]
    },
    {
      "cell_type": "code",
      "execution_count": null,
      "metadata": {
        "id": "XT3ichOIuw53"
      },
      "outputs": [],
      "source": [
        "import pandas as pd\n",
        "from sklearn.model_selection import train_test_split\n",
        "from sklearn.linear_model import LinearRegression\n",
        "from sklearn.preprocessing import OneHotEncoder\n",
        "from sklearn.metrics import mean_squared_error, r2_score\n",
        "import joblib\n",
        "import numpy as np\n"
      ]
    },
    {
      "cell_type": "markdown",
      "metadata": {
        "id": "AcOdPCqS1CDa"
      },
      "source": [
        "# Load dataset"
      ]
    },
    {
      "cell_type": "code",
      "execution_count": null,
      "metadata": {
        "id": "vM88DhAUu15W"
      },
      "outputs": [],
      "source": [
        "df = pd.read_csv('/content/Hyderbad_House_price.csv')\n",
        "print(df.head())\n",
        "print(df.info())"
      ]
    },
    {
      "cell_type": "markdown",
      "metadata": {
        "id": "LXx5TNFt1S_p"
      },
      "source": [
        "# Drop unnecessary column"
      ]
    },
    {
      "cell_type": "code",
      "execution_count": null,
      "metadata": {
        "id": "lT7Ga7qOu_rJ"
      },
      "outputs": [],
      "source": [
        "if 'Unnamed: 0' in df.columns:\n",
        "    df = df.drop(columns=['Unnamed: 0'])"
      ]
    },
    {
      "cell_type": "markdown",
      "metadata": {
        "id": "Vk2g6tGT1U0K"
      },
      "source": [
        "# Features and target"
      ]
    },
    {
      "cell_type": "code",
      "execution_count": null,
      "metadata": {
        "id": "G3MuO2HjvDti"
      },
      "outputs": [],
      "source": [
        "X = df[['title', 'location', 'area_insqft']]\n",
        "y = df['price(L)']"
      ]
    },
    {
      "cell_type": "markdown",
      "metadata": {
        "id": "XowQ_PWz1azi"
      },
      "source": [
        "# Column Categorization"
      ]
    },
    {
      "cell_type": "code",
      "execution_count": null,
      "metadata": {
        "id": "__kSINPyvJxX"
      },
      "outputs": [],
      "source": [
        "categorical_cols = ['title', 'location']\n",
        "numerical_cols = ['area_insqft']"
      ]
    },
    {
      "cell_type": "markdown",
      "metadata": {
        "id": "XkQuuJfK1vIu"
      },
      "source": [
        "### Encode categorical columns using `OneHotEncoder`, create `X_cat_df` with encoded features, and keep numerical columns as `X_num_df`.\n"
      ]
    },
    {
      "cell_type": "code",
      "execution_count": null,
      "metadata": {
        "id": "rjYgH30vvU5P"
      },
      "outputs": [],
      "source": [
        "encoder = OneHotEncoder(handle_unknown='ignore', sparse_output=False)\n",
        "X_cat = encoder.fit_transform(X[categorical_cols])\n",
        "X_cat_df = pd.DataFrame(X_cat, columns=encoder.get_feature_names_out(categorical_cols), index=X.index)\n",
        "X_num_df = X[numerical_cols]"
      ]
    },
    {
      "cell_type": "markdown",
      "metadata": {
        "id": "ZPM3Eq002a-v"
      },
      "source": [
        "# Concatenate categorical and numerical features"
      ]
    },
    {
      "cell_type": "code",
      "execution_count": null,
      "metadata": {
        "id": "zyTEinOWvZ2J"
      },
      "outputs": [],
      "source": [
        "X_prepared = pd.concat([X_cat_df, X_num_df], axis=1)"
      ]
    },
    {
      "cell_type": "markdown",
      "metadata": {
        "id": "OFBRZoOF2h5L"
      },
      "source": [
        "# Train-Test Split"
      ]
    },
    {
      "cell_type": "code",
      "execution_count": null,
      "metadata": {
        "id": "FcQXC55cy94x"
      },
      "outputs": [],
      "source": [
        "X_train, X_test, y_train, y_test = train_test_split(X_prepared, y, test_size=0.4, random_state=42)"
      ]
    },
    {
      "cell_type": "markdown",
      "metadata": {
        "id": "5CWzyrkt2pRs"
      },
      "source": [
        "# Train Model"
      ]
    },
    {
      "cell_type": "code",
      "execution_count": null,
      "metadata": {
        "id": "G8i0QAxqzM1z"
      },
      "outputs": [],
      "source": [
        "model = LinearRegression()\n",
        "model.fit(X_train, y_train)"
      ]
    },
    {
      "cell_type": "markdown",
      "metadata": {
        "id": "vwK_Yb_X2zjA"
      },
      "source": [
        "# Model performance analysis"
      ]
    },
    {
      "cell_type": "code",
      "execution_count": null,
      "metadata": {
        "id": "ea2WCP6AzONE"
      },
      "outputs": [],
      "source": [
        "y_pred = model.predict(X_test)\n",
        "\n",
        "rmse = np.sqrt(mean_squared_error(y_test, y_pred))\n",
        "r2 = r2_score(y_test, y_pred)\n",
        "\n",
        "print(f\"Model Accuracy (R² Score): {r2 * 100:.2f}%\")\n",
        "print(f\"Model RMSE: {rmse:.2f} L\")"
      ]
    },
    {
      "cell_type": "markdown",
      "metadata": {
        "id": "6AfXBbal3TaO"
      },
      "source": [
        "# Save Model and  Encoder for future use"
      ]
    },
    {
      "cell_type": "code",
      "execution_count": null,
      "metadata": {
        "id": "UAk7FGCuzjah"
      },
      "outputs": [],
      "source": [
        "joblib.dump(model, \"house_price_model.pkl\")\n",
        "joblib.dump(encoder, \"encoder.pkl\")"
      ]
    }
  ],
  "metadata": {
    "colab": {
      "provenance": []
    },
    "kernelspec": {
      "display_name": "Python 3",
      "name": "python3"
    },
    "language_info": {
      "name": "python"
    }
  },
  "nbformat": 4,
  "nbformat_minor": 0
}
